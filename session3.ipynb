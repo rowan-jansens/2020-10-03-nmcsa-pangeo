{
 "cells": [
  {
   "cell_type": "markdown",
   "metadata": {},
   "source": [
    "# NM Supercomputing Challenge 2020"
   ]
  },
  {
   "cell_type": "markdown",
   "metadata": {},
   "source": [
    "## Session #3 (Jon Wheeler): Data workflows, automation, and visualization with Pandas and Matplotlib\n",
    "\n",
    "This notebook is modified from the \"Data Workflows and Automation\" and \"Data Ingest and Visualization - Matplotlib and Pandas\" lessons in the Data Carpentry module, _Data Analysis and Visualization in Python for Ecologists_. The lessons are available at <http://www.datacarpentry.org/python-ecology-lesson/>, and are licensed with a Creative Commons Attribution (CC-BY-4.0) license: <https://creativecommons.org/licenses/by/4.0/>. The requested citation is:\n",
    "\n",
    "> John Gosset, April Wright (eds): \"Data Carpentry Python Ecology lesson.\"\n",
    "> Version 2017.04.0, April 2017,\n",
    "> <http://www.datacarpentry.org/python-ecology-lesson/>\n",
    "\n",
    "Before we begin, let's go ahead and re-import the libraries we're using for this workshop:"
   ]
  },
  {
   "cell_type": "code",
   "execution_count": 2,
   "metadata": {},
   "outputs": [
    {
     "name": "stdout",
     "output_type": "stream",
     "text": [
      "WARNING: pip is being invoked by an old script wrapper. This will fail in a future version of pip.\n",
      "Please see https://github.com/pypa/pip/issues/5599 for advice on fixing the underlying issue.\n",
      "To avoid this problem you can invoke Python with '-m pip' instead of running pip directly.\n",
      "Collecting pandas\n",
      "  Downloading pandas-1.1.2-cp37-cp37m-manylinux1_x86_64.whl (10.5 MB)\n",
      "\u001b[K     |████████████████████████████████| 10.5 MB 3.2 MB/s eta 0:00:01\n",
      "\u001b[?25hCollecting numpy>=1.15.4\n",
      "  Downloading numpy-1.19.2-cp37-cp37m-manylinux2010_x86_64.whl (14.5 MB)\n",
      "\u001b[K     |████████████████████████████████| 14.5 MB 21.7 MB/s eta 0:00:01\n",
      "\u001b[?25hRequirement already satisfied: python-dateutil>=2.7.3 in /srv/conda/envs/notebook/lib/python3.7/site-packages (from pandas) (2.8.1)\n",
      "Collecting pytz>=2017.2\n",
      "  Downloading pytz-2020.1-py2.py3-none-any.whl (510 kB)\n",
      "\u001b[K     |████████████████████████████████| 510 kB 37.0 MB/s eta 0:00:01\n",
      "\u001b[?25hRequirement already satisfied: six>=1.5 in /srv/conda/envs/notebook/lib/python3.7/site-packages (from python-dateutil>=2.7.3->pandas) (1.14.0)\n",
      "Installing collected packages: numpy, pytz, pandas\n",
      "Successfully installed numpy-1.19.2 pandas-1.1.2 pytz-2020.1\n"
     ]
    }
   ],
   "source": [
    "# We will keep this commented out for now, but if needed it is possible to install packages from within a Jupyter notebook.\n",
    "# The syntax is:\n",
    "#     pip install <package>\n",
    "\n",
    "!pip install pandas"
   ]
  },
  {
   "cell_type": "code",
   "execution_count": 3,
   "metadata": {},
   "outputs": [],
   "source": [
    "import pandas as pd     # 'pd' is an alias that lets us reference pandas functions and methods without having to type out 'pandas' every time\n",
    "import os"
   ]
  },
  {
   "cell_type": "markdown",
   "metadata": {},
   "source": [
    "## Workflows & automation\n",
    "\n",
    "Recap: What are some of the benefits of using Python? Everyone is encouraged to jot down some reflections or thoughts in this space. (Double click this code block to edit and add text.)\n",
    "\n",
    "> .\n",
    "> .\n",
    "> .\n",
    "\n",
    "Loops and functions allows us to build efficiencies into our analyses by repeating actions and re-using bits of code. This also helps to reduce the likelihood of mistakes and errors we might make when we perform repetitive tasks manually.\n",
    "\n",
    "## Loops"
   ]
  },
  {
   "cell_type": "code",
   "execution_count": 6,
   "metadata": {},
   "outputs": [
    {
     "name": "stdout",
     "output_type": "stream",
     "text": [
      "['lion', 'tiger', 'crocodile', 'vulture', 'hippo']\n"
     ]
    }
   ],
   "source": [
    "# For loops\n",
    "\n",
    "# Syntax\n",
    "# for item in collection:\n",
    "#    do something\n",
    "\n",
    "# The \"collection\" we iterate through can be any one of a number of data structures or object, but we often use for loops to iterate\n",
    "# over lists. Let's start with that:\n",
    "\n",
    "animals = ['lion', 'tiger', 'crocodile', 'vulture', 'hippo']\n",
    "\n",
    "# Print the list to screen:\n",
    "print(animals)"
   ]
  },
  {
   "cell_type": "code",
   "execution_count": 7,
   "metadata": {},
   "outputs": [
    {
     "name": "stdout",
     "output_type": "stream",
     "text": [
      "lion\n",
      "tiger\n",
      "crocodile\n",
      "vulture\n",
      "hippo\n"
     ]
    }
   ],
   "source": [
    "# Referring to the syntax above, \"the collection\" is the list we have assigned to the variable \"animals.\"\n",
    "# The items in the list are the individual animals we have named - lion, tiger, etc.\n",
    "\n",
    "# The following loop will print out the name of each animal. How does the output differ from the 'print(animals)' command above'?\n",
    "# The loop variable is \"animal\" - we can call the loop variable almost anything, but we recommend using a term consistent with the collection.\n",
    "for animal in animals:\n",
    "    print(animal)"
   ]
  },
  {
   "cell_type": "code",
   "execution_count": 8,
   "metadata": {},
   "outputs": [
    {
     "name": "stdout",
     "output_type": "stream",
     "text": [
      "hippo\n"
     ]
    }
   ],
   "source": [
    "# Note that the loop variable still exists after the for loop has completed, and has the value of the last item in the collection:\n",
    "\n",
    "print(animal)"
   ]
  },
  {
   "cell_type": "markdown",
   "metadata": {},
   "source": [
    "# Exercise:\n",
    "\n",
    "Run the next two code blocks, then answer the questions below:\n",
    "\n",
    "1. What happens if we don’t include the `pass` statement?\n",
    "2. Rewrite the loop so that the animals are separated by commas, not new lines (Hint: You can concatenate strings using a plus sign. For example, print(string1 + string2) outputs ‘string1string2’).\n"
   ]
  },
  {
   "cell_type": "code",
   "execution_count": 9,
   "metadata": {},
   "outputs": [],
   "source": [
    "for creature in animals:\n",
    "    pass"
   ]
  },
  {
   "cell_type": "code",
   "execution_count": 19,
   "metadata": {},
   "outputs": [
    {
     "name": "stdout",
     "output_type": "stream",
     "text": [
      "The loop variable is now: hippo\n"
     ]
    }
   ],
   "source": [
    "print('The loop variable is now: ' + creature)"
   ]
  },
  {
   "cell_type": "markdown",
   "metadata": {},
   "source": [
    "## Functions\n",
    "\n",
    "Loops are handy, but they will only be executed from wherever they are in the code. Using the example above, if we are developing a script in which the list of animals is continually being modified, we might find ourselves adding a new for loop every time we want to print the animal names or do something else. Imagine for example a process like this:\n",
    "\n",
    "```\n",
    "# A list of family pets:\n",
    "pets = ['dog', 'cat', 'lizard']\n",
    "\n",
    "# Let's print the list for reference:\n",
    "for pet in pets:\n",
    "    print(pet)\n",
    "\n",
    "# Hooray, we got a parakeet!\n",
    "pets.append('parakeet')\n",
    "\n",
    "# Oh no, the cat ran away!\n",
    "pets.remove('cat')\n",
    "\n",
    "# Now we need to re-print the updated list...\n",
    "for pet in pets:\n",
    "    print(pet)\n",
    "```\n",
    "\n",
    "This is an artificial example, but demonstrates that we often need to update lists or other objects and repeat certain actions on one or several objects. Functions allow us to create re-usable bits of code that can be called as needed from any point in a script. "
   ]
  },
  {
   "cell_type": "markdown",
   "metadata": {},
   "source": [
    "The syntax for a function is:\n",
    "\n",
    "```\n",
    "def funtion_name(input_argument_1, input_argument_2):\n",
    "    \n",
    "    # Do things. The next line is an example.\n",
    "    combined_args = str(input_argument_1) + \" \" + str(input_argument_2) \n",
    "    \n",
    "    # Return a result\n",
    "    return combined_args\n",
    "```"
   ]
  },
  {
   "cell_type": "code",
   "execution_count": 11,
   "metadata": {},
   "outputs": [],
   "source": [
    "# This is the example function provided in the Carpentries lesson.\n",
    "# Note that we have to execute this code block before we can call the function.\n",
    "\n",
    "def this_is_the_function_name(input_argument1, input_argument2):\n",
    "\n",
    "    # The body of the function is indented\n",
    "    # This function prints the two arguments to screen\n",
    "    print('The function arguments are:', input_argument1, input_argument2, '(this is done inside the function!)')\n",
    "\n",
    "    # And returns their product\n",
    "    return input_argument1 * input_argument2"
   ]
  },
  {
   "cell_type": "code",
   "execution_count": 12,
   "metadata": {},
   "outputs": [
    {
     "name": "stdout",
     "output_type": "stream",
     "text": [
      "The function arguments are: 2 5 (this is done inside the function!)\n"
     ]
    }
   ],
   "source": [
    "product_of_inputs = this_is_the_function_name(2, 5)"
   ]
  },
  {
   "cell_type": "code",
   "execution_count": 13,
   "metadata": {},
   "outputs": [
    {
     "name": "stdout",
     "output_type": "stream",
     "text": [
      "Their product is: 10 (this is done outside the function!)\n"
     ]
    }
   ],
   "source": [
    "print('Their product is:', product_of_inputs, '(this is done outside the function!)')"
   ]
  },
  {
   "cell_type": "code",
   "execution_count": 14,
   "metadata": {},
   "outputs": [
    {
     "name": "stdout",
     "output_type": "stream",
     "text": [
      "The function arguments are: 98 1876 (this is done inside the function!)\n"
     ]
    }
   ],
   "source": [
    "# We can re-use the function as needed.\n",
    "\n",
    "new_product = this_is_the_function_name(98, 1876)"
   ]
  },
  {
   "cell_type": "code",
   "execution_count": 15,
   "metadata": {},
   "outputs": [
    {
     "name": "stdout",
     "output_type": "stream",
     "text": [
      "Their product is: 183848 (this is done outside the function!)\n"
     ]
    }
   ],
   "source": [
    "print('Their product is:', new_product, '(this is done outside the function!)')"
   ]
  },
  {
   "cell_type": "code",
   "execution_count": 16,
   "metadata": {},
   "outputs": [],
   "source": [
    "# Combining loops and functions allows us to get a lot work done with just a few lines of code.\n",
    "# For example, we can create a short function to return the square of a number:\n",
    "\n",
    "def calculate_square(number):\n",
    "    return number * number"
   ]
  },
  {
   "cell_type": "code",
   "execution_count": 17,
   "metadata": {},
   "outputs": [
    {
     "name": "stdout",
     "output_type": "stream",
     "text": [
      "The square of 1 is 1\n",
      "The square of 3 is 9\n",
      "The square of 5 is 25\n",
      "The square of 7 is 49\n",
      "The square of 9 is 81\n",
      "The square of 11 is 121\n",
      "The square of 13 is 169\n",
      "The square of 15 is 225\n",
      "The square of 17 is 289\n",
      "The square of 19 is 361\n"
     ]
    }
   ],
   "source": [
    "# Now we can call the function as part of a loop:\n",
    "\n",
    "for n in range(1, 21, 2):\n",
    "    n_squared = calculate_square(n)\n",
    "    print(\"The square of\", n, \"is\", n_squared)"
   ]
  },
  {
   "cell_type": "markdown",
   "metadata": {},
   "source": [
    "## Exercise\n",
    "\n",
    "1. Change the values of the arguments in either of the functions above and check the output.\n",
    "2. Try calling one of the functions by giving it the wrong number of argument or not assigning the function call to a variable (no product_of_inputs =)\n",
    "3. Declare a variable inside the function and test to see where it exists (Hint: can you print it from outside the function?)\n",
    "4. Explore what happens when a variable both inside and outside the function have the same name. What happens to the global variable when you change the value of the local variable?\n"
   ]
  },
  {
   "cell_type": "code",
   "execution_count": null,
   "metadata": {},
   "outputs": [],
   "source": []
  },
  {
   "cell_type": "code",
   "execution_count": null,
   "metadata": {},
   "outputs": [],
   "source": []
  },
  {
   "cell_type": "code",
   "execution_count": null,
   "metadata": {},
   "outputs": [],
   "source": []
  }
 ],
 "metadata": {
  "kernelspec": {
   "display_name": "Python 3",
   "language": "python",
   "name": "python3"
  },
  "language_info": {
   "codemirror_mode": {
    "name": "ipython",
    "version": 3
   },
   "file_extension": ".py",
   "mimetype": "text/x-python",
   "name": "python",
   "nbconvert_exporter": "python",
   "pygments_lexer": "ipython3",
   "version": "3.7.6"
  }
 },
 "nbformat": 4,
 "nbformat_minor": 4
}
